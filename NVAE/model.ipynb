{
  "nbformat": 4,
  "nbformat_minor": 0,
  "metadata": {
    "colab": {
      "name": "model.ipynb",
      "provenance": [],
      "authorship_tag": "ABX9TyMZjiz9sqDiBSdZHMTW9QUI",
      "include_colab_link": true
    },
    "kernelspec": {
      "name": "python3",
      "display_name": "Python 3"
    }
  },
  "cells": [
    {
      "cell_type": "markdown",
      "metadata": {
        "id": "view-in-github",
        "colab_type": "text"
      },
      "source": [
        "<a href=\"https://colab.research.google.com/github/TivoGatto/Thesis/blob/master/NVAE/model.ipynb\" target=\"_parent\"><img src=\"https://colab.research.google.com/assets/colab-badge.svg\" alt=\"Open In Colab\"/></a>"
      ]
    },
    {
      "cell_type": "code",
      "metadata": {
        "id": "IMJlI53xbMom"
      },
      "source": [
        "import numpy as np\n",
        "import tensorflow as tf\n",
        "from tensorflow.keras import layers, models\n",
        "from tensorflow.keras import backend as K"
      ],
      "execution_count": null,
      "outputs": []
    },
    {
      "cell_type": "code",
      "metadata": {
        "id": "lDOEy_PBn366"
      },
      "source": [
        "def SE(x):\n",
        "  c = K.int_shape(x)[-1]\n",
        "  red_c = max(c // 16, int(c ** 0.5))\n",
        "\n",
        "  h = layers.AveragePooling2D(1)(x)\n",
        "  h = layers.Dense(red_c)(h)\n",
        "  h = layers.ReLU()(h)\n",
        "  h = layers.Dense(c)(h)\n",
        "  h = layers.Activation('sigmoid')(h)\n",
        "\n",
        "  h = layers.Multiply()([x, h])\n",
        "  return h\n",
        "\n",
        "\n",
        "def EncoderCell(x):\n",
        "  m, n, c = K.int_shape(x)[1:]\n",
        "\n",
        "  h = layers.BatchNormalization()(x)\n",
        "  h = layers.Activation('swish')(h)\n",
        "  h = layers.Conv2D(c, kernel_size=3, strides=1, padding='same')(h) # possible use_bias = False\n",
        "  h = layers.BatchNormalization()(x)\n",
        "  h = layers.Activation('swish')(h)\n",
        "  h = layers.Conv2D(c, kernel_size=3, strides=1, padding='same')(h)\n",
        "  h = SE(h)\n",
        "\n",
        "  return layers.Add()([x, h])\n",
        "\n",
        "def DecoderCell(x):\n",
        "  n_ch = K.int_shape(x)[-1]\n",
        "  e_ch = n_ch * 6\n",
        "  \n",
        "  h = layers.BatchNormalization()(x)\n",
        "  h = layers.Conv2D(e_ch, kernel_size=1, strides=1, padding='same')(h)\n",
        "  h = layers.BatchNormalization()(h)\n",
        "  h = layers.Activation('swish')(h)\n",
        "  h = layers.DepthwiseConv2D(kernel_size=5, strides=1, padding='same')\n",
        "  h = layers.BatchNormalization()(h)\n",
        "  h = layers.Activation('swish')(h)\n",
        "  h = layers.Conv2D(n_ch, kernel_size=1, strides=1, padding='same')(h)\n",
        "  h = layers.BatchNormalization()(x)\n",
        "  h = SE(h)\n",
        "\n",
        "  return layers.Add()([x, h])"
      ],
      "execution_count": null,
      "outputs": []
    },
    {
      "cell_type": "code",
      "metadata": {
        "id": "1WejE3MhbkwB",
        "colab": {
          "base_uri": "https://localhost:8080/",
          "height": 130
        },
        "outputId": "a4c9b7d1-3557-4c2d-9b6e-1983389faf79"
      },
      "source": [
        "input_shape = (32, 32, 3)\n",
        "n_group = 4\n",
        "initial_ch = 32\n",
        "\n",
        "x = layers.Input(shape=input_shape)\n",
        "h = layers.Conv2D(initial_ch, kernel_size=1, strides=1, padding='same')(x)\n",
        "\n",
        "n_ch = initial_ch\n",
        "levels = []\n",
        "for i in range(n_group):\n",
        "  n_ch *= 2\n",
        "\n",
        "  h = EncoderCell(h)\n",
        "  h = layers.Conv2D(n_ch, kernel_size=1, strides=2, padding='same')(h)\n",
        "  levels.append(h)\n",
        "\n",
        "z_means = []\n",
        "z_log_vars = []\n",
        "zs = []\n",
        "\n",
        "z_mean = layers.Conv2D(z_dim, kernel_size=1, strides=1, padding='same', activation='swish')(h)\n",
        "z_log_var = layers.Conv2D(z_dim, kernel_size=1, strides=1, padding='same', activation='swish')(h)\n",
        "\n",
        "z_means.append(z_mean)\n",
        "z_log_vars.append(z_log_var)\n",
        "\n",
        "z = layers.Lambda(sampling)([z_mean, z_log_var])\n",
        "zs.append(z)\n",
        "for i in range(1, n_group):\n",
        "  h = layers.Conv2DTranspose(z_dim, kernel_size=1, strides=2, padding='same')(z)\n",
        "  h = layers.BatchNormalization()(h)\n",
        "  h = DecoderCell(h)\n",
        "  h = layers.Add()([h, levels[-(i+1)]])"
      ],
      "execution_count": null,
      "outputs": [
        {
          "output_type": "error",
          "ename": "SyntaxError",
          "evalue": "ignored",
          "traceback": [
            "\u001b[0;36m  File \u001b[0;32m\"<ipython-input-35-7b253f1d86b3>\"\u001b[0;36m, line \u001b[0;32m18\u001b[0m\n\u001b[0;31m    z_mean =\u001b[0m\n\u001b[0m             ^\u001b[0m\n\u001b[0;31mSyntaxError\u001b[0m\u001b[0;31m:\u001b[0m invalid syntax\n"
          ]
        }
      ]
    }
  ]
}